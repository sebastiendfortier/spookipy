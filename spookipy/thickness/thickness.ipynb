{
 "cells": [
  {
   "cell_type": "code",
   "execution_count": 25,
   "metadata": {},
   "outputs": [],
   "source": [
    "# put this at the beginning of a vscode notebook\n",
    "import os\n",
    "import sys\n",
    "import pathlib\n",
    "import fstpy.all as fstpy\n",
    "# make rpnpy visible\n",
    "os.environ['LD_LIBRARY_PATH'] = '/fs/ssm/eccc/mrd/rpn/libs/19.6.0/ubuntu-18.04-skylake-64/lib/ubuntu-18.04-skylake-64/intel-19.0.3.199:/fs/ssm/eccc/mrd/rpn/vgrid/6.5.0/ubuntu-18.04-skylake-64/lib/ubuntu-18.04-skylake-64/intel-19.0.3.199:/fs/ssm/eccc/mrd/rpn/utils/19.6.0/ubuntu-18.04-skylake-64/lib:/fs/ssm/eccc/mrd/rpn/utils/19.6.0/ubuntu-18.04-amd64-64/lib:/fs/ssm/hpco/exp/openmpi/hpcx-core-2.4.0/hpcx-core_2.4.0-gcc-mofed-4.6-1_ubuntu-18.04-amd64-64/x/ucx/lib:/fs/ssm/hpco/exp/openmpi/hpcx-core-2.4.0/hpcx-core_2.4.0-gcc-mofed-4.6-1_ubuntu-18.04-amd64-64/x/sharp/lib:/fs/ssm/hpco/exp/openmpi/hpcx-core-2.4.0/hpcx-core_2.4.0-gcc-mofed-4.6-1_ubuntu-18.04-amd64-64/x/hcoll/lib:/fs/ssm/hpco/exp/openmpi/openmpi-3.1.2--hpcx-2.4.0-mofed-4.6--intel-19.0.3.199/ubuntu-18.04-amd64-64/lib:/fs/ssm/main/opt/intelcomp/intelpsxe-cluster-19.0.3.199/intelpsxe-cluster_19.0.3.199_multi/compilers_and_libraries_2019.3.199/linux/compiler/lib/intel64_lin:/fs/ssm/main/opt/intelcomp/intelpsxe-cluster-19.0.3.199/intelpsxe-cluster_19.0.3.199_multi/compilers_and_libraries_2019.3.199/linux/ipp/lib/intel64:/fs/ssm/main/opt/intelcomp/intelpsxe-cluster-19.0.3.199/intelpsxe-cluster_19.0.3.199_multi/compilers_and_libraries_2019.3.199/linux/mkl/lib/intel64_lin:/fs/ssm/main/opt/intelcomp/intelpsxe-cluster-19.0.3.199/intelpsxe-cluster_19.0.3.199_multi/compilers_and_libraries_2019.3.199/linux/tbb/lib/intel64/gcc4.7:/fs/ssm/main/opt/intelcomp/intelpsxe-cluster-19.0.3.199/intelpsxe-cluster_19.0.3.199_multi/debugger_2019/libipt/intel64/lib:/fs/ssm/main/opt/intelcomp/intelpsxe-cluster-19.0.3.199/intelpsxe-cluster_19.0.3.199_multi/compilers_and_libraries_2019.3.199/linux/daal/lib/intel64_lin:/fs/ssm/main/opt/intelcomp/intelpsxe-cluster-19.0.3.199/intelpsxe-cluster_19.0.3.199_multi/compilers_and_libraries_2019.3.199/linux/daal/../tbb/lib/intel64_lin/gcc4.4:/opt/mellanox/mxm/lib'\n",
    "sys.path.append('/fs/ssm/eccc/mrd/rpn/MIG/ENV/d/rpnpy/rpnpy_2.1.2/rpnpy_2.1.2_all/lib')\n",
    "sys.path.append('/fs/ssm/eccc/mrd/rpn/libs/19.6.0/ubuntu-18.04-skylake-64/lib/ubuntu-18.04-skylake-64/intel-19.0.3.199')\n",
    "sys.path.append('/fs/ssm/eccc/mrd/rpn/vgrid/6.5.0/ubuntu-18.04-skylake-64/lib/ubuntu-18.04-skylake-64/intel-19.0.3.199')\n",
    "sys.path.append('/fs/ssm/eccc/cmd/cmda/libs/19.6.0/intel-19.0.3.199/ubuntu-18.04-skylake-64/lib')\n",
    "sys.path.append('/fs/ssm/eccc/mrd/rpn/utils/19.6.0/env-python_1.3.0_all/share/Python/PythonAllRevs')\n",
    "# make ci_fstcomp visible\n",
    "sys.path.append('/fs/ssm/eccc/cmd/cmds/apps/ci_fstcomp/1.0.3/all/lib/python')\n",
    "sys.path.append('/home/zak000/src/fstpy')\n",
    "sys.path.append('/home/zak000/src/spookipy')"
   ]
  },
  {
   "cell_type": "code",
   "execution_count": 23,
   "metadata": {},
   "outputs": [
    {
     "data": {
      "text/html": [
       "<div>\n",
       "<style scoped>\n",
       "    .dataframe tbody tr th:only-of-type {\n",
       "        vertical-align: middle;\n",
       "    }\n",
       "\n",
       "    .dataframe tbody tr th {\n",
       "        vertical-align: top;\n",
       "    }\n",
       "\n",
       "    .dataframe thead th {\n",
       "        text-align: right;\n",
       "    }\n",
       "</style>\n",
       "<table border=\"1\" class=\"dataframe\">\n",
       "  <thead>\n",
       "    <tr style=\"text-align: right;\">\n",
       "      <th></th>\n",
       "      <th>nomvar</th>\n",
       "      <th>typvar</th>\n",
       "      <th>etiket</th>\n",
       "      <th>ni</th>\n",
       "      <th>nj</th>\n",
       "      <th>nk</th>\n",
       "      <th>dateo</th>\n",
       "      <th>ip1</th>\n",
       "      <th>ip2</th>\n",
       "      <th>ip3</th>\n",
       "      <th>deet</th>\n",
       "      <th>npas</th>\n",
       "      <th>datyp</th>\n",
       "      <th>nbits</th>\n",
       "      <th>grtyp</th>\n",
       "      <th>ig1</th>\n",
       "      <th>ig2</th>\n",
       "      <th>ig3</th>\n",
       "      <th>ig4</th>\n",
       "      <th>datev</th>\n",
       "      <th>grid</th>\n",
       "      <th>d</th>\n",
       "    </tr>\n",
       "  </thead>\n",
       "  <tbody>\n",
       "    <tr>\n",
       "      <th>0</th>\n",
       "      <td>DZ</td>\n",
       "      <td>P</td>\n",
       "      <td>THCKNS</td>\n",
       "      <td>77</td>\n",
       "      <td>57</td>\n",
       "      <td>1</td>\n",
       "      <td>353542400</td>\n",
       "      <td>26314400</td>\n",
       "      <td>178109344</td>\n",
       "      <td>28097576</td>\n",
       "      <td>450</td>\n",
       "      <td>72</td>\n",
       "      <td>1</td>\n",
       "      <td>16</td>\n",
       "      <td>N</td>\n",
       "      <td>590</td>\n",
       "      <td>260</td>\n",
       "      <td>2100</td>\n",
       "      <td>953</td>\n",
       "      <td>353550500</td>\n",
       "      <td>590260</td>\n",
       "      <td>[[dask.array&lt;getitem, shape=(), dtype=float32,...</td>\n",
       "    </tr>\n",
       "  </tbody>\n",
       "</table>\n",
       "</div>"
      ],
      "text/plain": [
       "  nomvar typvar  ...    grid                                                  d\n",
       "0     DZ      P  ...  590260  [[dask.array<getitem, shape=(), dtype=float32,...\n",
       "\n",
       "[1 rows x 22 columns]"
      ]
     },
     "execution_count": 23,
     "metadata": {},
     "output_type": "execute_result"
    }
   ],
   "source": [
    "\n",
    "path =\"/fs/site3/eccc/cmd/w/spst900/spooki/spooki_dir/pluginsRelatedStuff/Thickness/testsFiles/\"\n",
    "src = path +  \"Thick_test1-2_file2cmp.std\"\n",
    "df = fstpy.StandardFileReader(src).to_pandas()\n",
    "\n",
    "df"
   ]
  },
  {
   "cell_type": "code",
   "execution_count": 46,
   "metadata": {},
   "outputs": [
    {
     "data": {
      "text/html": [
       "<div>\n",
       "<style scoped>\n",
       "    .dataframe tbody tr th:only-of-type {\n",
       "        vertical-align: middle;\n",
       "    }\n",
       "\n",
       "    .dataframe tbody tr th {\n",
       "        vertical-align: top;\n",
       "    }\n",
       "\n",
       "    .dataframe thead th {\n",
       "        text-align: right;\n",
       "    }\n",
       "</style>\n",
       "<table border=\"1\" class=\"dataframe\">\n",
       "  <thead>\n",
       "    <tr style=\"text-align: right;\">\n",
       "      <th></th>\n",
       "      <th>nomvar</th>\n",
       "      <th>typvar</th>\n",
       "      <th>etiket</th>\n",
       "      <th>ni</th>\n",
       "      <th>nj</th>\n",
       "      <th>nk</th>\n",
       "      <th>dateo</th>\n",
       "      <th>ip1</th>\n",
       "      <th>ip2</th>\n",
       "      <th>ip3</th>\n",
       "      <th>...</th>\n",
       "      <th>interval</th>\n",
       "      <th>vctype</th>\n",
       "      <th>multiple_modifications</th>\n",
       "      <th>zapped</th>\n",
       "      <th>filtered</th>\n",
       "      <th>interpolated</th>\n",
       "      <th>unit_converted</th>\n",
       "      <th>bounded</th>\n",
       "      <th>missing_data</th>\n",
       "      <th>ensemble_extra_info</th>\n",
       "    </tr>\n",
       "  </thead>\n",
       "  <tbody>\n",
       "    <tr>\n",
       "      <th>0</th>\n",
       "      <td>DZ</td>\n",
       "      <td>P</td>\n",
       "      <td>THCKNS</td>\n",
       "      <td>77</td>\n",
       "      <td>57</td>\n",
       "      <td>1</td>\n",
       "      <td>353542400</td>\n",
       "      <td>26314400</td>\n",
       "      <td>178109344</td>\n",
       "      <td>28097576</td>\n",
       "      <td>...</td>\n",
       "      <td>ip1:1.0sg@0.8345999717712402sg</td>\n",
       "      <td>UNKNOWN</td>\n",
       "      <td>False</td>\n",
       "      <td>False</td>\n",
       "      <td>False</td>\n",
       "      <td>False</td>\n",
       "      <td>False</td>\n",
       "      <td>False</td>\n",
       "      <td>False</td>\n",
       "      <td>False</td>\n",
       "    </tr>\n",
       "  </tbody>\n",
       "</table>\n",
       "<p>1 rows × 54 columns</p>\n",
       "</div>"
      ],
      "text/plain": [
       "  nomvar typvar  etiket  ni  nj  nk      dateo       ip1        ip2       ip3  \\\n",
       "0     DZ      P  THCKNS  77  57   1  353542400  26314400  178109344  28097576   \n",
       "\n",
       "   ...                        interval   vctype  multiple_modifications  \\\n",
       "0  ...  ip1:1.0sg@0.8345999717712402sg  UNKNOWN                   False   \n",
       "\n",
       "   zapped filtered  interpolated  unit_converted  bounded  missing_data  \\\n",
       "0   False    False         False           False    False         False   \n",
       "\n",
       "   ensemble_extra_info  \n",
       "0                False  \n",
       "\n",
       "[1 rows x 54 columns]"
      ]
     },
     "execution_count": 46,
     "metadata": {},
     "output_type": "execute_result"
    }
   ],
   "source": [
    "import fstpy.all as fstpy\n",
    "path =\"/fs/site3/eccc/cmd/w/spst900/spooki/spooki_dir/pluginsRelatedStuff/Thickness/testsFiles/\"\n",
    "src = path +  \"Thick_test1-2_file2cmp.std\"\n",
    "src2 = path + \"GZ_12000_10346_fileSrc.std\"\n",
    "src3 = path + \"GZ_1000_500_fileSrc.std\"\n",
    "df = fstpy.StandardFileReader(src,decode_metadata=True).to_pandas()\n",
    "# df = df.loc[~df.nomvar.isin([\"^^\", \">>\", \"^>\", \"!!\", \"!!SF\", \"HY\", \"P0\", \"PT\"])].reset_index(\n",
    "#             drop=True) \n",
    "df =fstpy.set_vertical_coordinate_type(df)\n",
    "df = fstpy.compute(df)\n",
    "df"
   ]
  },
  {
   "cell_type": "code",
   "execution_count": 32,
   "metadata": {},
   "outputs": [
    {
     "data": {
      "text/plain": [
       "0    [[dask.array<getitem, shape=(), dtype=float32,...\n",
       "1    [[dask.array<getitem, shape=(), dtype=float32,...\n",
       "2    [[dask.array<getitem, shape=(), dtype=float32,...\n",
       "Name: d, dtype: object"
      ]
     },
     "execution_count": 32,
     "metadata": {},
     "output_type": "execute_result"
    }
   ],
   "source": [
    "import fstpy.all as fstpy\n",
    "path =\"/fs/site3/eccc/cmd/w/spst900/spooki/spooki_dir/pluginsRelatedStuff/Thickness/testsFiles/\"\n",
    "src = path + \"GZ_12000_10346_fileSrc.std\"\n",
    "\n",
    "\n",
    "df = fstpy.StandardFileReader(src).to_pandas()\n",
    "# df = fstpy.metadata_cleanup(df)\n",
    "# meta_df = df.loc[df.nomvar.isin([\"^^\", \">>\", \"^>\", \"!!\", \"!!SF\", \"HY\", \"P0\", \"PT\"])].reset_index(drop=True)   # keep the metadata to be added at the end\n",
    "    # add some columns if they are not already in the dataframe\n",
    "df = fstpy.add_columns(df, columns=['ip_info'])\n",
    "fstpy.compute(df)\n",
    "# res_df = spooki.Pressure(df, reference_field='TT').compute()\n",
    "# df = df.loc[~df.nomvar.isin([\"^^\", \">>\", \"^>\", \"!!\", \"!!SF\", \"HY\", \"P0\", \"PT\"])].reset_index(drop=True)  # get dataframe without metadata\n",
    "df[\"d\"]"
   ]
  },
  {
   "cell_type": "code",
   "execution_count": 29,
   "metadata": {},
   "outputs": [
    {
     "ename": "AttributeError",
     "evalue": "'DataFrame' object has no attribute 'ascending'",
     "output_type": "error",
     "traceback": [
      "\u001b[0;31m---------------------------------------------------------------------------\u001b[0m",
      "\u001b[0;31mAttributeError\u001b[0m                            Traceback (most recent call last)",
      "\u001b[0;32m<ipython-input-29-52e40447a847>\u001b[0m in \u001b[0;36m<module>\u001b[0;34m\u001b[0m\n\u001b[1;32m      4\u001b[0m \u001b[0msrc\u001b[0m \u001b[0;34m=\u001b[0m \u001b[0mpath\u001b[0m \u001b[0;34m+\u001b[0m \u001b[0;34m\"GZ_12000_10346_fileSrc.std\"\u001b[0m\u001b[0;34m\u001b[0m\u001b[0;34m\u001b[0m\u001b[0m\n\u001b[1;32m      5\u001b[0m \u001b[0mdf\u001b[0m \u001b[0;34m=\u001b[0m \u001b[0mfstpy\u001b[0m\u001b[0;34m.\u001b[0m\u001b[0mStandardFileReader\u001b[0m\u001b[0;34m(\u001b[0m\u001b[0msrc\u001b[0m\u001b[0;34m)\u001b[0m\u001b[0;34m.\u001b[0m\u001b[0mto_pandas\u001b[0m\u001b[0;34m(\u001b[0m\u001b[0;34m)\u001b[0m\u001b[0;34m\u001b[0m\u001b[0;34m\u001b[0m\u001b[0m\n\u001b[0;32m----> 6\u001b[0;31m \u001b[0mgz_df\u001b[0m \u001b[0;34m=\u001b[0m \u001b[0mget_from_dataframe\u001b[0m\u001b[0;34m(\u001b[0m\u001b[0mdf\u001b[0m\u001b[0;34m,\u001b[0m \u001b[0;34m'GZ'\u001b[0m\u001b[0;34m)\u001b[0m\u001b[0;34m\u001b[0m\u001b[0;34m\u001b[0m\u001b[0m\n\u001b[0m\u001b[1;32m      7\u001b[0m \u001b[0mgz_df\u001b[0m\u001b[0;34m\u001b[0m\u001b[0;34m\u001b[0m\u001b[0m\n",
      "\u001b[0;32m~/src/spookipy/spookipy/utils.py\u001b[0m in \u001b[0;36mget_from_dataframe\u001b[0;34m(df, nomvar)\u001b[0m\n\u001b[1;32m    573\u001b[0m         return res_df.sort_values(\n\u001b[1;32m    574\u001b[0m             \u001b[0mby\u001b[0m\u001b[0;34m=\u001b[0m\u001b[0;34m[\u001b[0m\u001b[0;34m'level'\u001b[0m\u001b[0;34m]\u001b[0m\u001b[0;34m,\u001b[0m\u001b[0;34m\u001b[0m\u001b[0;34m\u001b[0m\u001b[0m\n\u001b[0;32m--> 575\u001b[0;31m             \u001b[0mascending\u001b[0m\u001b[0;34m=\u001b[0m\u001b[0mres_df\u001b[0m\u001b[0;34m.\u001b[0m\u001b[0mascending\u001b[0m\u001b[0;34m.\u001b[0m\u001b[0munique\u001b[0m\u001b[0;34m(\u001b[0m\u001b[0;34m)\u001b[0m\u001b[0;34m[\u001b[0m\u001b[0;36m0\u001b[0m\u001b[0;34m]\u001b[0m\u001b[0;34m)\u001b[0m\u001b[0;34m.\u001b[0m\u001b[0mreset_index\u001b[0m\u001b[0;34m(\u001b[0m\u001b[0;34m\u001b[0m\u001b[0;34m\u001b[0m\u001b[0m\n\u001b[0m\u001b[1;32m    576\u001b[0m             drop=True)\n\u001b[1;32m    577\u001b[0m \u001b[0;34m\u001b[0m\u001b[0m\n",
      "\u001b[0;32m/fs/ssm/eccc/cmd/cmde/surge/surgepy/1.0.8/surgepy_1.0.8_all/lib/python3.8/site-packages/pandas/core/generic.py\u001b[0m in \u001b[0;36m__getattr__\u001b[0;34m(self, name)\u001b[0m\n\u001b[1;32m   5463\u001b[0m             \u001b[0;32mif\u001b[0m \u001b[0mself\u001b[0m\u001b[0;34m.\u001b[0m\u001b[0m_info_axis\u001b[0m\u001b[0;34m.\u001b[0m\u001b[0m_can_hold_identifiers_and_holds_name\u001b[0m\u001b[0;34m(\u001b[0m\u001b[0mname\u001b[0m\u001b[0;34m)\u001b[0m\u001b[0;34m:\u001b[0m\u001b[0;34m\u001b[0m\u001b[0;34m\u001b[0m\u001b[0m\n\u001b[1;32m   5464\u001b[0m                 \u001b[0;32mreturn\u001b[0m \u001b[0mself\u001b[0m\u001b[0;34m[\u001b[0m\u001b[0mname\u001b[0m\u001b[0;34m]\u001b[0m\u001b[0;34m\u001b[0m\u001b[0;34m\u001b[0m\u001b[0m\n\u001b[0;32m-> 5465\u001b[0;31m             \u001b[0;32mreturn\u001b[0m \u001b[0mobject\u001b[0m\u001b[0;34m.\u001b[0m\u001b[0m__getattribute__\u001b[0m\u001b[0;34m(\u001b[0m\u001b[0mself\u001b[0m\u001b[0;34m,\u001b[0m \u001b[0mname\u001b[0m\u001b[0;34m)\u001b[0m\u001b[0;34m\u001b[0m\u001b[0;34m\u001b[0m\u001b[0m\n\u001b[0m\u001b[1;32m   5466\u001b[0m \u001b[0;34m\u001b[0m\u001b[0m\n\u001b[1;32m   5467\u001b[0m     \u001b[0;32mdef\u001b[0m \u001b[0m__setattr__\u001b[0m\u001b[0;34m(\u001b[0m\u001b[0mself\u001b[0m\u001b[0;34m,\u001b[0m \u001b[0mname\u001b[0m\u001b[0;34m:\u001b[0m \u001b[0mstr\u001b[0m\u001b[0;34m,\u001b[0m \u001b[0mvalue\u001b[0m\u001b[0;34m)\u001b[0m \u001b[0;34m->\u001b[0m \u001b[0;32mNone\u001b[0m\u001b[0;34m:\u001b[0m\u001b[0;34m\u001b[0m\u001b[0;34m\u001b[0m\u001b[0m\n",
      "\u001b[0;31mAttributeError\u001b[0m: 'DataFrame' object has no attribute 'ascending'"
     ]
    }
   ],
   "source": [
    "from spookipy.utils import get_from_dataframe\n",
    "\n",
    "path =\"/fs/site3/eccc/cmd/w/spst900/spooki/spooki_dir/pluginsRelatedStuff/Thickness/testsFiles/\"\n",
    "src = path + \"GZ_12000_10346_fileSrc.std\"\n",
    "df = fstpy.StandardFileReader(src).to_pandas()\n",
    "gz_df = get_from_dataframe(df, 'GZ')\n",
    "gz_df\n"
   ]
  },
  {
   "cell_type": "code",
   "execution_count": 10,
   "metadata": {},
   "outputs": [
    {
     "name": "stdout",
     "output_type": "stream",
     "text": [
      "{'TT': {'nomvar': 'TT', 'unit': 'kelvin', 'VV': 50}}\n"
     ]
    }
   ],
   "source": [
    "plugin_mandatory_dependencies =[\n",
    "            {\n",
    "                'TT': {'nomvar': 'TT', 'unit': 'kelvin'},\n",
    "            }\n",
    "        ]\n",
    "coordinate = \"North\"\n",
    "# plugin_mandatory_dependencies[0]=coordinate\n",
    "plugin_mandatory_dependencies[0][\"TT\"][\"VV\"]=50\n",
    "print(plugin_mandatory_dependencies[0])"
   ]
  },
  {
   "cell_type": "code",
   "execution_count": 50,
   "metadata": {},
   "outputs": [
    {
     "name": "stdout",
     "output_type": "stream",
     "text": [
      "[[16.585093 24.950815 31.088999 34.645153 34.950817]\n",
      " [24.780405 31.19642  36.007946 38.871227 40.418102]\n",
      " [29.416147 33.443005 35.56361  34.87074  34.677868]\n",
      " [30.610971 32.806774 29.510386 25.86732  24.236948]\n",
      " [28.880014 24.938608 20.424936 15.377573 12.772104]]\n",
      "[[ 3.0031087  4.392269   5.5680504  6.11639    4.5617027]\n",
      " [ 9.608089  11.080746  12.877621  12.356625   5.5807457]\n",
      " [14.179867  14.4327965 17.020199  11.749203   5.4054527]\n",
      " [19.432308  20.628597  12.962582   5.4796715  2.1456869]\n",
      " [23.50848   18.53387    7.6168785  2.736019   0.7042807]]\n",
      "[[13.581984  20.558546  25.520948  28.528763  30.389114 ]\n",
      " [15.172316  20.115675  23.130325  26.514603  34.837357 ]\n",
      " [15.23628   19.010208  18.543411  23.121536  29.272415 ]\n",
      " [11.178663  12.178177  16.547804  20.387648  22.09126  ]\n",
      " [ 5.3715343  6.4047375 12.808058  12.641554  12.067823 ]]\n"
     ]
    }
   ],
   "source": [
    "test = \"/fs/site3/eccc/cmd/w/spst900/spooki/spooki_dir/pluginsRelatedStuff/\"\n",
    "plugin_test_dir = test +\"ReaderStd/testsFiles/\"\n",
    "\n",
    "source0 = plugin_test_dir + \"UUVV5x5_fileSrc.std\"\n",
    "\n",
    "df = fstpy.StandardFileReader(source0).to_pandas()\n",
    "df = fstpy.compute(df)\n",
    "print(df[\"d\"][0])\n",
    "print(df[\"d\"][1])\n",
    "print(df[\"d\"][0] - df[\"d\"][1])"
   ]
  }
 ],
 "metadata": {
  "interpreter": {
   "hash": "5d30657c2dbd1cbb51e7376e0bd3558cf73735189708423b5594cdc55d2f21fd"
  },
  "kernelspec": {
   "display_name": "Python 3.8.1 64-bit ('surgepy_1.0.8_all': conda)",
   "language": "python",
   "name": "python3"
  },
  "language_info": {
   "codemirror_mode": {
    "name": "ipython",
    "version": 3
   },
   "file_extension": ".py",
   "mimetype": "text/x-python",
   "name": "python",
   "nbconvert_exporter": "python",
   "pygments_lexer": "ipython3",
   "version": "3.8.1"
  },
  "orig_nbformat": 4
 },
 "nbformat": 4,
 "nbformat_minor": 2
}
