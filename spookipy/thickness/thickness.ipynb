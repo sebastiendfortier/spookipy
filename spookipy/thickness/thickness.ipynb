{
 "cells": [
  {
   "cell_type": "code",
   "execution_count": 2,
   "metadata": {},
   "outputs": [],
   "source": [
    "# put this at the beginning of a vscode notebook\n",
    "import os\n",
    "import sys\n",
    "import pathlib\n",
    "\n",
    "# make rpnpy visible\n",
    "os.environ['LD_LIBRARY_PATH'] = '/fs/ssm/eccc/mrd/rpn/libs/19.6.0/ubuntu-18.04-skylake-64/lib/ubuntu-18.04-skylake-64/intel-19.0.3.199:/fs/ssm/eccc/mrd/rpn/vgrid/6.5.0/ubuntu-18.04-skylake-64/lib/ubuntu-18.04-skylake-64/intel-19.0.3.199:/fs/ssm/eccc/mrd/rpn/utils/19.6.0/ubuntu-18.04-skylake-64/lib:/fs/ssm/eccc/mrd/rpn/utils/19.6.0/ubuntu-18.04-amd64-64/lib:/fs/ssm/hpco/exp/openmpi/hpcx-core-2.4.0/hpcx-core_2.4.0-gcc-mofed-4.6-1_ubuntu-18.04-amd64-64/x/ucx/lib:/fs/ssm/hpco/exp/openmpi/hpcx-core-2.4.0/hpcx-core_2.4.0-gcc-mofed-4.6-1_ubuntu-18.04-amd64-64/x/sharp/lib:/fs/ssm/hpco/exp/openmpi/hpcx-core-2.4.0/hpcx-core_2.4.0-gcc-mofed-4.6-1_ubuntu-18.04-amd64-64/x/hcoll/lib:/fs/ssm/hpco/exp/openmpi/openmpi-3.1.2--hpcx-2.4.0-mofed-4.6--intel-19.0.3.199/ubuntu-18.04-amd64-64/lib:/fs/ssm/main/opt/intelcomp/intelpsxe-cluster-19.0.3.199/intelpsxe-cluster_19.0.3.199_multi/compilers_and_libraries_2019.3.199/linux/compiler/lib/intel64_lin:/fs/ssm/main/opt/intelcomp/intelpsxe-cluster-19.0.3.199/intelpsxe-cluster_19.0.3.199_multi/compilers_and_libraries_2019.3.199/linux/ipp/lib/intel64:/fs/ssm/main/opt/intelcomp/intelpsxe-cluster-19.0.3.199/intelpsxe-cluster_19.0.3.199_multi/compilers_and_libraries_2019.3.199/linux/mkl/lib/intel64_lin:/fs/ssm/main/opt/intelcomp/intelpsxe-cluster-19.0.3.199/intelpsxe-cluster_19.0.3.199_multi/compilers_and_libraries_2019.3.199/linux/tbb/lib/intel64/gcc4.7:/fs/ssm/main/opt/intelcomp/intelpsxe-cluster-19.0.3.199/intelpsxe-cluster_19.0.3.199_multi/debugger_2019/libipt/intel64/lib:/fs/ssm/main/opt/intelcomp/intelpsxe-cluster-19.0.3.199/intelpsxe-cluster_19.0.3.199_multi/compilers_and_libraries_2019.3.199/linux/daal/lib/intel64_lin:/fs/ssm/main/opt/intelcomp/intelpsxe-cluster-19.0.3.199/intelpsxe-cluster_19.0.3.199_multi/compilers_and_libraries_2019.3.199/linux/daal/../tbb/lib/intel64_lin/gcc4.4:/opt/mellanox/mxm/lib'\n",
    "sys.path.append('/fs/ssm/eccc/mrd/rpn/MIG/ENV/d/rpnpy/rpnpy_2.1.2/rpnpy_2.1.2_all/lib')\n",
    "sys.path.append('/fs/ssm/eccc/mrd/rpn/libs/19.6.0/ubuntu-18.04-skylake-64/lib/ubuntu-18.04-skylake-64/intel-19.0.3.199')\n",
    "sys.path.append('/fs/ssm/eccc/mrd/rpn/vgrid/6.5.0/ubuntu-18.04-skylake-64/lib/ubuntu-18.04-skylake-64/intel-19.0.3.199')\n",
    "sys.path.append('/fs/ssm/eccc/cmd/cmda/libs/19.6.0/intel-19.0.3.199/ubuntu-18.04-skylake-64/lib')\n",
    "sys.path.append('/fs/ssm/eccc/mrd/rpn/utils/19.6.0/env-python_1.3.0_all/share/Python/PythonAllRevs')\n",
    "# make ci_fstcomp visible\n",
    "sys.path.append('/fs/ssm/eccc/cmd/cmds/apps/ci_fstcomp/1.0.3/all/lib/python')\n",
    "sys.path.append('/home/zak000/src/fstpy')\n",
    "sys.path.append('/home/zak000/src/spookipy')"
   ]
  },
  {
   "cell_type": "code",
   "execution_count": 4,
   "metadata": {},
   "outputs": [
    {
     "data": {
      "text/html": [
       "<div>\n",
       "<style scoped>\n",
       "    .dataframe tbody tr th:only-of-type {\n",
       "        vertical-align: middle;\n",
       "    }\n",
       "\n",
       "    .dataframe tbody tr th {\n",
       "        vertical-align: top;\n",
       "    }\n",
       "\n",
       "    .dataframe thead th {\n",
       "        text-align: right;\n",
       "    }\n",
       "</style>\n",
       "<table border=\"1\" class=\"dataframe\">\n",
       "  <thead>\n",
       "    <tr style=\"text-align: right;\">\n",
       "      <th></th>\n",
       "      <th>nomvar</th>\n",
       "      <th>typvar</th>\n",
       "      <th>etiket</th>\n",
       "      <th>ni</th>\n",
       "      <th>nj</th>\n",
       "      <th>nk</th>\n",
       "      <th>dateo</th>\n",
       "      <th>ip1</th>\n",
       "      <th>ip2</th>\n",
       "      <th>ip3</th>\n",
       "      <th>...</th>\n",
       "      <th>datyp</th>\n",
       "      <th>nbits</th>\n",
       "      <th>grtyp</th>\n",
       "      <th>ig1</th>\n",
       "      <th>ig2</th>\n",
       "      <th>ig3</th>\n",
       "      <th>ig4</th>\n",
       "      <th>datev</th>\n",
       "      <th>grid</th>\n",
       "      <th>d</th>\n",
       "    </tr>\n",
       "  </thead>\n",
       "  <tbody>\n",
       "    <tr>\n",
       "      <th>0</th>\n",
       "      <td>DZ</td>\n",
       "      <td>P</td>\n",
       "      <td>THCKNS</td>\n",
       "      <td>77</td>\n",
       "      <td>57</td>\n",
       "      <td>1</td>\n",
       "      <td>353542400</td>\n",
       "      <td>26314400</td>\n",
       "      <td>178109344</td>\n",
       "      <td>28097576</td>\n",
       "      <td>...</td>\n",
       "      <td>1</td>\n",
       "      <td>16</td>\n",
       "      <td>N</td>\n",
       "      <td>590</td>\n",
       "      <td>260</td>\n",
       "      <td>2100</td>\n",
       "      <td>953</td>\n",
       "      <td>353550500</td>\n",
       "      <td>590260</td>\n",
       "      <td>[[dask.array&lt;getitem, shape=(), dtype=float32,...</td>\n",
       "    </tr>\n",
       "  </tbody>\n",
       "</table>\n",
       "<p>1 rows × 22 columns</p>\n",
       "</div>"
      ],
      "text/plain": [
       "  nomvar typvar  etiket  ni  nj  nk      dateo       ip1        ip2       ip3  \\\n",
       "0     DZ      P  THCKNS  77  57   1  353542400  26314400  178109344  28097576   \n",
       "\n",
       "   ...  datyp  nbits  grtyp  ig1  ig2   ig3  ig4      datev    grid  \\\n",
       "0  ...      1     16      N  590  260  2100  953  353550500  590260   \n",
       "\n",
       "                                                   d  \n",
       "0  [[dask.array<getitem, shape=(), dtype=float32,...  \n",
       "\n",
       "[1 rows x 22 columns]"
      ]
     },
     "execution_count": 4,
     "metadata": {},
     "output_type": "execute_result"
    }
   ],
   "source": [
    "import fstpy.all as fstpy\n",
    "import rpnpy.librmn.all as rmn\n",
    "path =\"/fs/site3/eccc/cmd/w/spst900/spooki/spooki_dir/pluginsRelatedStuff/Thickness/testsFiles/\"\n",
    "src = path +  \"Thick_test1-2_file2cmp.std\"\n",
    "df = fstpy.StandardFileReader(src).to_pandas()\n",
    "\n",
    "df"
   ]
  },
  {
   "cell_type": "code",
   "execution_count": 20,
   "metadata": {},
   "outputs": [
    {
     "data": {
      "text/plain": [
       "0    0.0\n",
       "1    0.0\n",
       "2    0.0\n",
       "Name: ip3_dec, dtype: float32"
      ]
     },
     "execution_count": 20,
     "metadata": {},
     "output_type": "execute_result"
    }
   ],
   "source": [
    "import fstpy.all as fstpy\n",
    "path =\"/fs/site3/eccc/cmd/w/spst900/spooki/spooki_dir/pluginsRelatedStuff/Thickness/testsFiles/\"\n",
    "src = path +  \"Thick_test1-2_file2cmp.std\"\n",
    "src2 = path + \"GZ_12000_10346_fileSrc.std\"\n",
    "src3 = path + \"GZ_1000_500_fileSrc.std\"\n",
    "df = fstpy.StandardFileReader(src2,decode_metadata=True).to_pandas()\n",
    "# df = df.loc[~df.nomvar.isin([\"^^\", \">>\", \"^>\", \"!!\", \"!!SF\", \"HY\", \"P0\", \"PT\"])].reset_index(\n",
    "#             drop=True) \n",
    "df =fstpy.set_vertical_coordinate_type(df)\n",
    "df = fstpy.compute(df)\n",
    "df.ip3_dec"
   ]
  },
  {
   "cell_type": "code",
   "execution_count": 27,
   "metadata": {},
   "outputs": [
    {
     "data": {
      "text/plain": [
       "0    decameter\n",
       "1    decameter\n",
       "2       scalar\n",
       "Name: unit, dtype: object"
      ]
     },
     "execution_count": 27,
     "metadata": {},
     "output_type": "execute_result"
    }
   ],
   "source": [
    "import fstpy.all as fstpy\n",
    "path =\"/fs/site3/eccc/cmd/w/spst900/spooki/spooki_dir/pluginsRelatedStuff/Thickness/testsFiles/\"\n",
    "src = path + \"GZ_12000_10346_fileSrc.std\"\n",
    "\n",
    "\n",
    "df = fstpy.StandardFileReader(src,decode_metadata=True).to_pandas()\n",
    "# df = fstpy.metadata_cleanup(df)\n",
    "# meta_df = df.loc[df.nomvar.isin([\"^^\", \">>\", \"^>\", \"!!\", \"!!SF\", \"HY\", \"P0\", \"PT\"])].reset_index(drop=True)   # keep the metadata to be added at the end\n",
    "    # add some columns if they are not already in the dataframe\n",
    "df = fstpy.set_vertical_coordinate_type(df)\n",
    "# fstpy.compute(df)\n",
    "# res_df = spooki.Pressure(df, reference_field='TT').compute()\n",
    "# df = df.loc[~df.nomvar.isin([\"^^\", \">>\", \"^>\", \"!!\", \"!!SF\", \"HY\", \"P0\", \"PT\"])].reset_index(drop=True)  # get dataframe without metadata\n",
    "df.unit"
   ]
  },
  {
   "cell_type": "code",
   "execution_count": 141,
   "metadata": {},
   "outputs": [
    {
     "name": "stdout",
     "output_type": "stream",
     "text": [
      "{'DZ': {'nomvar': 'DZ', 'unit': 'decameter', 'IP1': 3}}\n"
     ]
    }
   ],
   "source": [
    "plugin_mandatory_dependencies =[\n",
    "            {\n",
    "                'TT': {'nomvar': 'TT', 'unit': 'kelvin'},\n",
    "            }\n",
    "        ]\n",
    "\n",
    "plugin_result_specifications = {\n",
    "    'DZ': {'nomvar': 'DZ', 'unit': 'decameter'}\n",
    "}\n",
    "coordinate = \"North\"\n",
    "# plugin_mandatory_dependencies[0]=coordinate\n",
    "plugin_mandatory_dependencies[0][\"TT\"][\"VV\"]=50\n",
    "# print(plugin_mandatory_dependencies[0])\n",
    "plugin_result_specifications[\"DZ\"][\"IP1\"] =3\n",
    "print(plugin_result_specifications)"
   ]
  },
  {
   "cell_type": "code",
   "execution_count": 136,
   "metadata": {},
   "outputs": [
    {
     "name": "stdout",
     "output_type": "stream",
     "text": [
      "0    1\n",
      "1    1\n",
      "2    2\n",
      "Name: ip1_kind, dtype: int32\n"
     ]
    }
   ],
   "source": [
    "plugin_test_dir = \"/fs/site3/eccc/cmd/w/spst900/spooki/spooki_dir/pluginsRelatedStuff/Thickness/testsFiles\"\n",
    "\n",
    "\n",
    "source0 = plugin_test_dir + \"/GZ_12000_10346_fileSrc.std\"\n",
    "df = fstpy.StandardFileReader(source0,decode_metadata=True).to_pandas()\n",
    "df = fstpy.compute(df)\n",
    "ip1 = float(df.level[0])\n",
    "ip3 = float(df.level[1])\n",
    "ip2 = float(ip1-ip3)\n",
    "kind = int(df.ip1_kind[0])\n",
    "# ip1_enc = rmn.ip1_val(ip1, kind)\n",
    "# ip3_enc = rmn.ip1_val(ip3, kind)\n",
    "\n",
    "\n",
    "# print(df.to_string())\n",
    "print (df.ip1_kind)"
   ]
  },
  {
   "cell_type": "code",
   "execution_count": null,
   "metadata": {},
   "outputs": [],
   "source": [
    "plugin_test_dir = \"/fs/site3/eccc/cmd/w/spst900/spooki/spooki_dir/pluginsRelatedStuff/Thickness/testsFiles\"\n",
    "\n",
    "\n",
    "source0 = plugin_test_dir + \"/GZ_12000_10346_fileSrc.std\"\n",
    "source1 = plugin_test_dir + \"/Thick_test1-2_file2cmp.std\"\n",
    "\n",
    "df = fstpy.StandardFileReader(source0).to_pandas()\n",
    "df = fstpy.compute(df)\n",
    "df1 = fstpy.StandardFileReader(source1).to_pandas()\n",
    "df1 = fstpy.compute(df1)\n",
    "print(df1.to_string())\n",
    "\n"
   ]
  },
  {
   "cell_type": "code",
   "execution_count": 7,
   "metadata": {},
   "outputs": [
    {
     "data": {
      "text/plain": [
       "<VerticalCoordType.SIGMA_1001: 1001>"
      ]
     },
     "execution_count": 7,
     "metadata": {},
     "output_type": "execute_result"
    }
   ],
   "source": [
    "fstpy.vctype_dict[\"SIGMA_1001\"]"
   ]
  }
 ],
 "metadata": {
  "interpreter": {
   "hash": "5d30657c2dbd1cbb51e7376e0bd3558cf73735189708423b5594cdc55d2f21fd"
  },
  "kernelspec": {
   "display_name": "Python 3.8.1 64-bit ('surgepy_1.0.8_all': conda)",
   "language": "python",
   "name": "python3"
  },
  "language_info": {
   "codemirror_mode": {
    "name": "ipython",
    "version": 3
   },
   "file_extension": ".py",
   "mimetype": "text/x-python",
   "name": "python",
   "nbconvert_exporter": "python",
   "pygments_lexer": "ipython3",
   "version": "3.8.1"
  },
  "orig_nbformat": 4
 },
 "nbformat": 4,
 "nbformat_minor": 2
}
