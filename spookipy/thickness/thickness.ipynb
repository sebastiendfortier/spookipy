{
 "cells": [
  {
   "cell_type": "code",
   "execution_count": 1,
   "metadata": {},
   "outputs": [],
   "source": [
    "# put this at the beginning of a vscode notebook\n",
    "import os\n",
    "import sys\n",
    "import pathlib\n",
    "\n",
    "# make rpnpy visible\n",
    "os.environ['LD_LIBRARY_PATH'] = '/fs/ssm/eccc/mrd/rpn/libs/19.6.0/ubuntu-18.04-skylake-64/lib/ubuntu-18.04-skylake-64/intel-19.0.3.199:/fs/ssm/eccc/mrd/rpn/vgrid/6.5.0/ubuntu-18.04-skylake-64/lib/ubuntu-18.04-skylake-64/intel-19.0.3.199:/fs/ssm/eccc/mrd/rpn/utils/19.6.0/ubuntu-18.04-skylake-64/lib:/fs/ssm/eccc/mrd/rpn/utils/19.6.0/ubuntu-18.04-amd64-64/lib:/fs/ssm/hpco/exp/openmpi/hpcx-core-2.4.0/hpcx-core_2.4.0-gcc-mofed-4.6-1_ubuntu-18.04-amd64-64/x/ucx/lib:/fs/ssm/hpco/exp/openmpi/hpcx-core-2.4.0/hpcx-core_2.4.0-gcc-mofed-4.6-1_ubuntu-18.04-amd64-64/x/sharp/lib:/fs/ssm/hpco/exp/openmpi/hpcx-core-2.4.0/hpcx-core_2.4.0-gcc-mofed-4.6-1_ubuntu-18.04-amd64-64/x/hcoll/lib:/fs/ssm/hpco/exp/openmpi/openmpi-3.1.2--hpcx-2.4.0-mofed-4.6--intel-19.0.3.199/ubuntu-18.04-amd64-64/lib:/fs/ssm/main/opt/intelcomp/intelpsxe-cluster-19.0.3.199/intelpsxe-cluster_19.0.3.199_multi/compilers_and_libraries_2019.3.199/linux/compiler/lib/intel64_lin:/fs/ssm/main/opt/intelcomp/intelpsxe-cluster-19.0.3.199/intelpsxe-cluster_19.0.3.199_multi/compilers_and_libraries_2019.3.199/linux/ipp/lib/intel64:/fs/ssm/main/opt/intelcomp/intelpsxe-cluster-19.0.3.199/intelpsxe-cluster_19.0.3.199_multi/compilers_and_libraries_2019.3.199/linux/mkl/lib/intel64_lin:/fs/ssm/main/opt/intelcomp/intelpsxe-cluster-19.0.3.199/intelpsxe-cluster_19.0.3.199_multi/compilers_and_libraries_2019.3.199/linux/tbb/lib/intel64/gcc4.7:/fs/ssm/main/opt/intelcomp/intelpsxe-cluster-19.0.3.199/intelpsxe-cluster_19.0.3.199_multi/debugger_2019/libipt/intel64/lib:/fs/ssm/main/opt/intelcomp/intelpsxe-cluster-19.0.3.199/intelpsxe-cluster_19.0.3.199_multi/compilers_and_libraries_2019.3.199/linux/daal/lib/intel64_lin:/fs/ssm/main/opt/intelcomp/intelpsxe-cluster-19.0.3.199/intelpsxe-cluster_19.0.3.199_multi/compilers_and_libraries_2019.3.199/linux/daal/../tbb/lib/intel64_lin/gcc4.4:/opt/mellanox/mxm/lib'\n",
    "sys.path.append('/fs/ssm/eccc/mrd/rpn/MIG/ENV/d/rpnpy/rpnpy_2.1.2/rpnpy_2.1.2_all/lib')\n",
    "sys.path.append('/fs/ssm/eccc/mrd/rpn/libs/19.6.0/ubuntu-18.04-skylake-64/lib/ubuntu-18.04-skylake-64/intel-19.0.3.199')\n",
    "sys.path.append('/fs/ssm/eccc/mrd/rpn/vgrid/6.5.0/ubuntu-18.04-skylake-64/lib/ubuntu-18.04-skylake-64/intel-19.0.3.199')\n",
    "sys.path.append('/fs/ssm/eccc/cmd/cmda/libs/19.6.0/intel-19.0.3.199/ubuntu-18.04-skylake-64/lib')\n",
    "sys.path.append('/fs/ssm/eccc/mrd/rpn/utils/19.6.0/env-python_1.3.0_all/share/Python/PythonAllRevs')\n",
    "# make ci_fstcomp visible\n",
    "sys.path.append('/fs/ssm/eccc/cmd/cmds/apps/ci_fstcomp/1.0.3/all/lib/python')\n",
    "sys.path.append('/home/zak000/src/fstpy')\n",
    "sys.path.append('/home/zak000/src/spookipy')"
   ]
  },
  {
   "cell_type": "code",
   "execution_count": 2,
   "metadata": {},
   "outputs": [
    {
     "data": {
      "text/html": [
       "<div>\n",
       "<style scoped>\n",
       "    .dataframe tbody tr th:only-of-type {\n",
       "        vertical-align: middle;\n",
       "    }\n",
       "\n",
       "    .dataframe tbody tr th {\n",
       "        vertical-align: top;\n",
       "    }\n",
       "\n",
       "    .dataframe thead th {\n",
       "        text-align: right;\n",
       "    }\n",
       "</style>\n",
       "<table border=\"1\" class=\"dataframe\">\n",
       "  <thead>\n",
       "    <tr style=\"text-align: right;\">\n",
       "      <th></th>\n",
       "      <th>nomvar</th>\n",
       "      <th>typvar</th>\n",
       "      <th>etiket</th>\n",
       "      <th>ni</th>\n",
       "      <th>nj</th>\n",
       "      <th>nk</th>\n",
       "      <th>dateo</th>\n",
       "      <th>ip1</th>\n",
       "      <th>ip2</th>\n",
       "      <th>ip3</th>\n",
       "      <th>...</th>\n",
       "      <th>datyp</th>\n",
       "      <th>nbits</th>\n",
       "      <th>grtyp</th>\n",
       "      <th>ig1</th>\n",
       "      <th>ig2</th>\n",
       "      <th>ig3</th>\n",
       "      <th>ig4</th>\n",
       "      <th>datev</th>\n",
       "      <th>grid</th>\n",
       "      <th>d</th>\n",
       "    </tr>\n",
       "  </thead>\n",
       "  <tbody>\n",
       "    <tr>\n",
       "      <th>0</th>\n",
       "      <td>DZ</td>\n",
       "      <td>P</td>\n",
       "      <td>THCKNS</td>\n",
       "      <td>77</td>\n",
       "      <td>57</td>\n",
       "      <td>1</td>\n",
       "      <td>353542400</td>\n",
       "      <td>26314400</td>\n",
       "      <td>178109344</td>\n",
       "      <td>28097576</td>\n",
       "      <td>...</td>\n",
       "      <td>1</td>\n",
       "      <td>16</td>\n",
       "      <td>N</td>\n",
       "      <td>590</td>\n",
       "      <td>260</td>\n",
       "      <td>2100</td>\n",
       "      <td>953</td>\n",
       "      <td>353550500</td>\n",
       "      <td>590260</td>\n",
       "      <td>[[dask.array&lt;getitem, shape=(), dtype=float32,...</td>\n",
       "    </tr>\n",
       "  </tbody>\n",
       "</table>\n",
       "<p>1 rows × 22 columns</p>\n",
       "</div>"
      ],
      "text/plain": [
       "  nomvar typvar  etiket  ni  nj  nk      dateo       ip1        ip2       ip3  \\\n",
       "0     DZ      P  THCKNS  77  57   1  353542400  26314400  178109344  28097576   \n",
       "\n",
       "   ...  datyp  nbits  grtyp  ig1  ig2   ig3  ig4      datev    grid  \\\n",
       "0  ...      1     16      N  590  260  2100  953  353550500  590260   \n",
       "\n",
       "                                                   d  \n",
       "0  [[dask.array<getitem, shape=(), dtype=float32,...  \n",
       "\n",
       "[1 rows x 22 columns]"
      ]
     },
     "execution_count": 2,
     "metadata": {},
     "output_type": "execute_result"
    }
   ],
   "source": [
    "import fstpy.all as fstpy\n",
    "import rpnpy.librmn.all as rmn\n",
    "path =\"/fs/site3/eccc/cmd/w/spst900/spooki/spooki_dir/pluginsRelatedStuff/Thickness/testsFiles/\"\n",
    "src = path +  \"Thick_test1-2_file2cmp.std\"\n",
    "df = fstpy.StandardFileReader(src).to_pandas()\n",
    "\n",
    "df"
   ]
  },
  {
   "cell_type": "code",
   "execution_count": 17,
   "metadata": {},
   "outputs": [
    {
     "data": {
      "text/plain": [
       "0    [[146.62207, 146.36426, 146.23926, 146.23926, ...\n",
       "Name: d, dtype: object"
      ]
     },
     "execution_count": 17,
     "metadata": {},
     "output_type": "execute_result"
    }
   ],
   "source": [
    "import fstpy.all as fstpy\n",
    "path =\"/fs/site3/eccc/cmd/w/spst900/spooki/spooki_dir/pluginsRelatedStuff/Thickness/testsFiles/\"\n",
    "src = path +  \"Thick_test1-2_file2cmp.std\"\n",
    "src2 = path + \"GZ_12000_10346_fileSrc.std\"\n",
    "src3 = path + \"GZ_1000_500_fileSrc.std\"\n",
    "src4 = path + \"2016031600_024_reghyb\"\n",
    "src5 = path + \"inputFile.std\"\n",
    "df = fstpy.StandardFileReader(src,decode_metadata=True).to_pandas()\n",
    "# df = df.loc[~df.nomvar.isin([\"^^\", \">>\", \"^>\", \"!!\", \"!!SF\", \"HY\", \"P0\", \"PT\"])].reset_index(\n",
    "#             drop=True) \n",
    "df =fstpy.set_vertical_coordinate_type(df)\n",
    "# df = fstpy.compute(df)\n",
    "# df[['nomvar','typvar','ip1','ip3','vctype','ip1_kind']]\n",
    "df = fstpy.compute(df)\n",
    "df.d\n"
   ]
  },
  {
   "cell_type": "code",
   "execution_count": 15,
   "metadata": {},
   "outputs": [
    {
     "data": {
      "text/plain": [
       "array([75597472, 96251080, 96188652, 95190655, 95167278, 95540371,\n",
       "       97452056, 94925214, 94897367, 94498627, 94490421, 95301844,\n",
       "       95286806, 95369342, 97618941, 94536575, 94526245, 94869870,\n",
       "       94842908, 97778082, 97680343, 94559163, 94547533, 94645547,\n",
       "       94628944, 95036796, 95009154, 98156842, 97930752, 94584612,\n",
       "       94571508, 94767166, 94744118, 94681753, 94663136, 96015143,\n",
       "       95961684, 95090929, 95064082, 96956235, 96838906, 94722214,\n",
       "       94701435, 94516502, 94507309, 95729004, 95690249, 95142744,\n",
       "       95117226, 95654453, 95621663, 96743205, 96667196, 95364364,\n",
       "       95357866, 95328505, 95315765, 94816678, 94791371, 94613284,\n",
       "       94598522, 95910415, 95861400, 95233441, 95212741, 97261718,\n",
       "       97096763, 95814737, 95770554, 94981258, 94953231, 96608593,\n",
       "       98476085, 94482642, 94475238, 95591773, 95564700, 96128586,\n",
       "       96070771, 96383711, 96316028, 95270482, 95252696, 95349708,\n",
       "       95339883], dtype=int32)"
      ]
     },
     "execution_count": 15,
     "metadata": {},
     "output_type": "execute_result"
    }
   ],
   "source": [
    "import fstpy.all as fstpy\n",
    "path =\"/fs/site3/eccc/cmd/w/spst900/spooki/spooki_dir/pluginsRelatedStuff/Thickness/testsFiles/\"\n",
    "src = path + \"GZ_12000_10346_fileSrc.std\"\n",
    "src2 = \"/fs/site3/eccc/cmd/w/spst900/spooki/spooki_dir/pluginsRelatedStuff/ReaderStd_WriterStd/testsFiles/source_data_5005.std\"\n",
    "\n",
    "\n",
    "df = fstpy.StandardFileReader(src2,decode_metadata=True).to_pandas()\n",
    "# df = fstpy.metadata_cleanup(df)\n",
    "# meta_df = df.loc[df.nomvar.isin([\"^^\", \">>\", \"^>\", \"!!\", \"!!SF\", \"HY\", \"P0\", \"PT\"])].reset_index(drop=True)   # keep the metadata to be added at the end\n",
    "    # add some columns if they are not already in the dataframe\n",
    "df = fstpy.set_vertical_coordinate_type(df)\n",
    "# fstpy.compute(df)\n",
    "# res_df = spooki.Pressure(df, reference_field='TT').compute()\n",
    "# df = df.loc[~df.nomvar.isin([\"^^\", \">>\", \"^>\", \"!!\", \"!!SF\", \"HY\", \"P0\", \"PT\"])].reset_index(drop=True)  # get dataframe without metadata\n",
    "df.loc[df.nomvar=='UU'].ip1.unique()"
   ]
  },
  {
   "cell_type": "code",
   "execution_count": null,
   "metadata": {},
   "outputs": [],
   "source": [
    "plugin_mandatory_dependencies =[\n",
    "            {\n",
    "                'TT': {'nomvar': 'TT', 'unit': 'kelvin'},\n",
    "            }\n",
    "        ]\n",
    "\n",
    "plugin_result_specifications = {\n",
    "    'DZ': {'nomvar': 'DZ', 'unit': 'decameter'}\n",
    "}\n",
    "coordinate = \"North\"\n",
    "# plugin_mandatory_dependencies[0]=coordinate\n",
    "plugin_mandatory_dependencies[0][\"TT\"][\"VV\"]=50\n",
    "# print(plugin_mandatory_dependencies[0])\n",
    "plugin_result_specifications[\"DZ\"][\"IP1\"] =3\n",
    "print(plugin_result_specifications)"
   ]
  },
  {
   "cell_type": "code",
   "execution_count": 14,
   "metadata": {},
   "outputs": [
    {
     "name": "stdout",
     "output_type": "stream",
     "text": [
      "1.0\n",
      "0.8345999717712402\n",
      "26314400\n"
     ]
    }
   ],
   "source": [
    "plugin_test_dir = \"/fs/site3/eccc/cmd/w/spst900/spooki/spooki_dir/pluginsRelatedStuff/Thickness/testsFiles\"\n",
    "\n",
    "\n",
    "source0 = plugin_test_dir + \"/GZ_12000_10346_fileSrc.std\"\n",
    "df = fstpy.StandardFileReader(source0,decode_metadata=True).to_pandas()\n",
    "df = fstpy.compute(df)\n",
    "ip1 = float(df.level[0])\n",
    "print(ip1)\n",
    "ip3 = float(df.level[1])\n",
    "print(ip3)\n",
    "ip2 = float(ip1-ip3)\n",
    "kind = int(df.ip1_kind[0])\n",
    "ip1_enc = rmn.ip1_val(ip1, kind)\n",
    "ip3_enc = rmn.ip1_val(ip3, kind)\n",
    "print(ip1_enc)\n",
    "\n",
    "# print (df.ip1_kind)"
   ]
  },
  {
   "cell_type": "code",
   "execution_count": 19,
   "metadata": {},
   "outputs": [
    {
     "name": "stdout",
     "output_type": "stream",
     "text": [
      "  nomvar typvar    etiket  ni  nj  nk      dateo    ip1  ip2  ip3  deet  npas  datyp  nbits grtyp  ig1   ig2   ig3  ig4      datev    grid\n",
      "0     GZ      P  R1558V0N  77  57   1  353542400  12000    9    0   450    72      1     16     N  590   260  2100  953  353550500  590260\n",
      "1     GZ      P  R1558V0N  77  57   1  353542400  10346    9    0   450    72      1     16     N  590   260  2100  953  353550500  590260\n",
      "2     HY      X  R1558V0N   1   1   1  353542400     10    0    0   450    96      5     32     X  800  1000     0    0  353553200  590260\n",
      "  nomvar typvar  etiket  ni  nj  nk      dateo       ip1        ip2       ip3  deet  npas  datyp  nbits grtyp  ig1  ig2   ig3  ig4      datev    grid\n",
      "0     DZ      P  THCKNS  77  57   1  353542400  26314400  178109344  28097576   450    72      1     16     N  590  260  2100  953  353550500  590260\n"
     ]
    }
   ],
   "source": [
    "plugin_test_dir = \"/fs/site3/eccc/cmd/w/spst900/spooki/spooki_dir/pluginsRelatedStuff/Thickness/testsFiles\"\n",
    "\n",
    "\n",
    "source0 = plugin_test_dir + \"/GZ_12000_10346_fileSrc.std\"\n",
    "source1 = plugin_test_dir + \"/Thick_test1-2_file2cmp.std\"\n",
    "\n",
    "df = fstpy.StandardFileReader(source0).to_pandas()\n",
    "df = fstpy.compute(df)\n",
    "df1 = fstpy.StandardFileReader(source1).to_pandas()\n",
    "df1 = fstpy.compute(df1)\n",
    "print(df.drop(columns='d').to_string())\n",
    "\n",
    "print(df1.drop(columns='d').to_string())"
   ]
  },
  {
   "cell_type": "code",
   "execution_count": 7,
   "metadata": {},
   "outputs": [],
   "source": [
    "from test import TEST_PATH,TMP_PATH\n",
    "import secrets\n",
    "from spookipy.thickness.thickness import Thickness,ParametersValuesError\n",
    "plugin_test_dir = TEST_PATH + \"/Thickness/testsFiles/\"\n",
    "source0 = plugin_test_dir + \"GZ_12000_10346_fileSrc.std\"\n",
    "src_df0 = fstpy.StandardFileReader(source0,decode_metadata=True).to_pandas()\n",
    "# results_file = ''.join([TMP_PATH, secrets.token_hex(16), \"test_1.std\"])\n",
    "#df = Thickness(src_df0,base=1.0,top=0.8346,coordinate_type='UNKNOWN').compute()\n",
    "out = \"/fs/site4/eccc/cmd/w/zak000/spooki_tmpdir/addsatest1.std\"\n",
    "fstpy.StandardFileWriter(out, src_df0).to_fst()\n",
    "\n"
   ]
  }
 ],
 "metadata": {
  "interpreter": {
   "hash": "5d30657c2dbd1cbb51e7376e0bd3558cf73735189708423b5594cdc55d2f21fd"
  },
  "kernelspec": {
   "display_name": "Python 3.8.1 64-bit ('surgepy_1.0.8_all': conda)",
   "language": "python",
   "name": "python3"
  },
  "language_info": {
   "codemirror_mode": {
    "name": "ipython",
    "version": 3
   },
   "file_extension": ".py",
   "mimetype": "text/x-python",
   "name": "python",
   "nbconvert_exporter": "python",
   "pygments_lexer": "ipython3",
   "version": "3.8.1"
  },
  "orig_nbformat": 4
 },
 "nbformat": 4,
 "nbformat_minor": 2
}
